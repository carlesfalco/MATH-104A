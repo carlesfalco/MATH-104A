{
 "cells": [
  {
   "cell_type": "markdown",
   "metadata": {},
   "source": [
    "Carles Falcó i Gandia\n",
    "\n",
    "Perm Number: 7621931\n",
    "\n",
    "falcoigandia@ucsb.edu"
   ]
  },
  {
   "cell_type": "markdown",
   "metadata": {},
   "source": [
    "#### 1. Review of some theorems of Calculus\n",
    "##### The Intermediate Value Theorem\n",
    "Let $f$ be a continous function on $[a,b]$. If $\\min(f(a),f(b))<c<\\max(f(a),f(b))$ then there exists at least one $x\\in[a,b]$ such that $f(x)=c$.\n",
    "\n",
    "##### The Mean Value Theorem\n",
    "Let $f$ be a continous function on $[a,b]$ and differentiable on $(a,b)$. Then there exists $c\\in(a,b)$ such that $f'(c)=\\frac{f(b)-f(a)}{b-a}$.\n",
    "\n",
    "##### Rolle's Theorem\n",
    "Let $f$ be a continous function on $[a,b]$ and differentiable on $(a,b)$. If $f(a)=f(b)$ then there exists $c\\in (a,b)$ such that $f'(c)=0$.\n",
    "\n",
    "##### The Mean Value Theorem for Integrals and The Weighted Mean Value Theorem for Integrals\n",
    "Let $f$ be a continous function on $[a,b]$. Then there exists $c\\in(a,b)$ such that $\\int_a^b f(x)dx=f(c)(b-a)$.\n",
    "More generally ig $g$ is an integrable function on $[a,b]$ that does not change sign in $(a,b)$ there exists $c\\in [a,b]$ such that $\\int_a^b f(x)g(x)dx=f(c)\\int_a^b g(x)dx$."
   ]
  },
  {
   "cell_type": "markdown",
   "metadata": {},
   "source": [
    "#### 2. Implementing the Composite Trapezoidal Rule quadrature\n",
    "We will define a function capable of computing $T_h[f]=h\\big[\\frac{1}{2}f(x_0)+f(x_1)+\\ldots+f(x_{N-1})+\\frac{1}{2}f(x_N)\\big]$ given $x_0=a$, $x_N=b$ and $h=\\frac{b-a}{N}$. The name of the variables will be the same as usual."
   ]
  },
  {
   "cell_type": "code",
   "execution_count": 284,
   "metadata": {},
   "outputs": [],
   "source": [
    "import numpy as np\n",
    "import matplotlib.pyplot as plt\n",
    "def thf(f,a,b,h): #parameters are the desired function and a,b and h\n",
    "    N = int( (b-a)/h )\n",
    "    return h*( 1/2*f(a) + 1/2*f(b) + sum( [ f(a + k*h) for k in range(1,N) ] ) )"
   ]
  },
  {
   "cell_type": "markdown",
   "metadata": {},
   "source": [
    "(a) Now we take $f(x)=\\frac{1}{(1+x)^2}$ on the interval $[0,2]$ and we compute the error $|I[f]-T_h[f]|$ with $I[f]=\\int_0^2 f(x)dx$. First we observe that $$\\int_0^2\\frac{1}{(1+x)^2} dx =\\bigg[-\\frac{1}{1+x}\\bigg]_0^2=\\frac{2}{3}$$"
   ]
  },
  {
   "cell_type": "markdown",
   "metadata": {},
   "source": [
    "For $h=\\frac{2}{20}$, the error is:"
   ]
  },
  {
   "cell_type": "code",
   "execution_count": 285,
   "metadata": {},
   "outputs": [
    {
     "name": "stdout",
     "output_type": "stream",
     "text": [
      "e1 = 0.00160164212835\n"
     ]
    }
   ],
   "source": [
    "e1 = np.abs( 2/3 - thf(lambda x: 1/(1+x)**2,0,2,2/20) )\n",
    "print('e1 =',e1)"
   ]
  },
  {
   "cell_type": "markdown",
   "metadata": {},
   "source": [
    "For $h=\\frac{2}{40}$, the error is:"
   ]
  },
  {
   "cell_type": "code",
   "execution_count": 286,
   "metadata": {},
   "outputs": [
    {
     "name": "stdout",
     "output_type": "stream",
     "text": [
      "e2 = 0.000401027462466\n"
     ]
    }
   ],
   "source": [
    "e2 = np.abs( 2/3 - thf(lambda x: 1/(1+x)**2,0,2,2/40) )\n",
    "print('e2 =',e2)"
   ]
  },
  {
   "cell_type": "markdown",
   "metadata": {},
   "source": [
    "For $h=\\frac{2}{80}$, the error is:"
   ]
  },
  {
   "cell_type": "code",
   "execution_count": 287,
   "metadata": {},
   "outputs": [
    {
     "name": "stdout",
     "output_type": "stream",
     "text": [
      "e3 = 0.000100295680531\n"
     ]
    }
   ],
   "source": [
    "e3 = np.abs( 2/3 - thf(lambda x: 1/(1+x)**2,0,2,2/80) )\n",
    "print('e3 =',e3)"
   ]
  },
  {
   "cell_type": "markdown",
   "metadata": {},
   "source": [
    "Taking $h=\\frac{2}{20}$ we observe that making $h$ twice smaller the error becomes around $2^2=4$ times smaller. If we make $h$ 4 times smaller we see that the error becomes around $4^2=16$ times smaller, confirming the expected quadratic convergence rate. We can see this in the following plot. This makes sense because $f$ is $C^2[0,2]$ since $f''(x)=\\frac{6}{(1+x)^4}$ and it is continous in the mentioned interval."
   ]
  },
  {
   "cell_type": "code",
   "execution_count": 288,
   "metadata": {},
   "outputs": [
    {
     "data": {
      "image/png": "[encoded data removed]",
      "text/plain": [
       "<matplotlib.figure.Figure at 0x245cec320b8>"
      ]
     },
     "metadata": {},
     "output_type": "display_data"
    }
   ],
   "source": [
    "#We compare the actual errors with the ones we expected from the first error.\n",
    "errors = [e1,e2,e3]\n",
    "experrors = [e1,e1/4,e1/16]\n",
    "hs = [2/20,2/40,2/80]\n",
    "plt.scatter(hs,errors,color='blue',label='Errors',marker='+')\n",
    "plt.scatter(hs,experrors,color='red',label='Expected errors',marker='+')\n",
    "plt.ylim(0,0.002)\n",
    "plt.legend()\n",
    "plt.show()\n",
    "#Actually the expected ones and the real ones overlap in the plot"
   ]
  },
  {
   "cell_type": "markdown",
   "metadata": {},
   "source": [
    "(b) Now we take $f(x)=\\sqrt{x}$ in $[0,1]$ and we compute $T_{1/N}[f]$ for $N=16,32,64,128$. In this case $\\int_0^1\\sqrt{x}dx=\\frac{2}{3}$ too."
   ]
  },
  {
   "cell_type": "code",
   "execution_count": 289,
   "metadata": {},
   "outputs": [
    {
     "name": "stdout",
     "output_type": "stream",
     "text": [
      "Th(f) = 0.663581196877 er1 = 0.00308546978944\n"
     ]
    }
   ],
   "source": [
    "#We print the result of thf next to the error we make\n",
    "#N=16\n",
    "er1 = np.abs( 2/3 - thf(lambda x: np.sqrt(x),0,1,1/16) )\n",
    "print( 'Th(f) =', thf(lambda x: np.sqrt(x),0,1,1/16), 'er1 =', er1 )"
   ]
  },
  {
   "cell_type": "code",
   "execution_count": 290,
   "metadata": {},
   "outputs": [
    {
     "name": "stdout",
     "output_type": "stream",
     "text": [
      "Th(f) = 0.665558936279 er2 = 0.00110773038772\n"
     ]
    }
   ],
   "source": [
    "#N=32\n",
    "er2 = np.abs( 2/3 - thf(lambda x: np.sqrt(x),0,1,1/32) )\n",
    "print( 'Th(f) =', thf(lambda x: np.sqrt(x),0,1,1/32), 'er2 =', er2 )"
   ]
  },
  {
   "cell_type": "code",
   "execution_count": 291,
   "metadata": {},
   "outputs": [
    {
     "name": "stdout",
     "output_type": "stream",
     "text": [
      "Th(f) = 0.666270811379 er3 = 0.00039585528816\n"
     ]
    }
   ],
   "source": [
    "#N=64\n",
    "er3 = np.abs( 2/3 - thf(lambda x: np.sqrt(x),0,1,1/64) )\n",
    "print( 'Th(f) =', thf(lambda x: np.sqrt(x),0,1,1/64), 'er3 =', er3 )"
   ]
  },
  {
   "cell_type": "code",
   "execution_count": 292,
   "metadata": {},
   "outputs": [
    {
     "name": "stdout",
     "output_type": "stream",
     "text": [
      "Th(f) = 0.666525657297 er4 = 0.00014100936984\n"
     ]
    }
   ],
   "source": [
    "#N=128\n",
    "er4 = np.abs( 2/3 - thf(lambda x: np.sqrt(x),0,1,1/128) )\n",
    "print( 'Th(f) =', thf(lambda x: np.sqrt(x),0,1,1/128), 'er4 =', er4 )"
   ]
  },
  {
   "cell_type": "code",
   "execution_count": 293,
   "metadata": {},
   "outputs": [
    {
     "name": "stdout",
     "output_type": "stream",
     "text": [
      "er1 = 0.00308546978944 er2 = 0.00077136744736 er3 = 0.00019284186184 er4 = 4.821046546e-05\n"
     ]
    }
   ],
   "source": [
    "#The errors with a quadratic convergence rate would be\n",
    "print('er1 =',er1,'er2 =',er1/2**2,'er3 =',er1/4**2,'er4 =',er1/8**2)"
   ]
  },
  {
   "cell_type": "code",
   "execution_count": 294,
   "metadata": {},
   "outputs": [
    {
     "data": {
      "image/png": "[encoded data removed]",
      "text/plain": [
       "<matplotlib.figure.Figure at 0x245cebf7b38>"
      ]
     },
     "metadata": {},
     "output_type": "display_data"
    }
   ],
   "source": [
    "#If we compare them\n",
    "errors2 = [er1,er2,er3,er4]\n",
    "experrors2 = [er1,er1/2**2,er1/4**2,er1/8**2]\n",
    "hs2 = [1/16,1/32,1/64,1/128]\n",
    "plt.scatter(hs2,errors2,color='blue',label='Errors',marker='+')\n",
    "plt.scatter(hs2,experrors2,color='red',label='Expected errors',marker='+')\n",
    "plt.ylim(0,0.0033)\n",
    "plt.legend()\n",
    "plt.show()"
   ]
  },
  {
   "cell_type": "markdown",
   "metadata": {},
   "source": [
    "In this case we don't see the quadratic convergence rate. That can be explained taking into account the continuity of the second derivative of the integrand. We see that $f''(x)=\\frac{-1}{4x^{3/2}}$ which tend asymptotically to $-\\infty$ as $x$ approaches to 0. Hence $f$ is not $C^2[0,1]$ and we cannot conclude that the error is $O(h^2)$ as in the previous case."
   ]
  },
  {
   "cell_type": "markdown",
   "metadata": {},
   "source": [
    "#### 3."
   ]
  },
  {
   "cell_type": "markdown",
   "metadata": {},
   "source": [
    "We consider now $$I[\\cos x^2]=\\int_0^{\\sqrt{\\pi/2}} \\cos x^2 dx$$"
   ]
  },
  {
   "cell_type": "code",
   "execution_count": 295,
   "metadata": {},
   "outputs": [],
   "source": [
    "#We'll fix now \n",
    "aa = 0\n",
    "bb = np.sqrt(np.pi/2)\n",
    "#We'll keep on using the function thf as in the previous exercise"
   ]
  },
  {
   "cell_type": "markdown",
   "metadata": {},
   "source": [
    "We compute $$ q(h)=\\frac{T_{h/2}[\\cos x^2]-T_{h}[\\cos x^2]}{T_{h/4}[\\cos x^2]-T_{h/2}[\\cos x^2]} $$ defining a function too"
   ]
  },
  {
   "cell_type": "code",
   "execution_count": 296,
   "metadata": {
    "collapsed": true
   },
   "outputs": [],
   "source": [
    "def q(H):\n",
    "    x1 = thf(lambda x: np.cos(x**2),aa,bb,H/2)\n",
    "    x2 = thf(lambda x: np.cos(x**2),aa,bb,H)\n",
    "    x3 = thf(lambda x: np.cos(x**2),aa,bb,H/4)\n",
    "    return (x1-x2)/(x3-x1)"
   ]
  },
  {
   "cell_type": "markdown",
   "metadata": {},
   "source": [
    "(a) And we find a value of $h$ for which $q(h)\\approx 4$. We'll consider that $q(h)\\approx 4$ if $|q(h)-4|<10^{-6}$"
   ]
  },
  {
   "cell_type": "code",
   "execution_count": 297,
   "metadata": {},
   "outputs": [],
   "source": [
    "#We define\n",
    "tol = 1e-6\n",
    "#Now we find a proper value of h\n",
    "n=1\n",
    "while(np.abs( q(bb/n)-4 ) > tol and n<1000):\n",
    "    n = n + 20"
   ]
  },
  {
   "cell_type": "code",
   "execution_count": 298,
   "metadata": {},
   "outputs": [
    {
     "name": "stdout",
     "output_type": "stream",
     "text": [
      "n = 821\n",
      "h = 0.00152657020379\n",
      "q(h) = 4.00000077118\n"
     ]
    }
   ],
   "source": [
    "#We find an n of b\n",
    "print('n =',n)\n",
    "#Such that our h is\n",
    "hh = bb/n\n",
    "print('h =',hh)\n",
    "#And moreover q(h) is\n",
    "print('q(h) =',q(hh))"
   ]
  },
  {
   "cell_type": "markdown",
   "metadata": {},
   "source": [
    "(b) Now, we'll make an estimation of the error we commit with this $h$. We'll use the fact that for small enough $h$ and if the integrand is $C^2[0,\\sqrt{\\pi/2}]$, which is obvious in this case, the error is $$E_h[\\cos x^2]\\approx\\frac{4}{3}\\big[T_{h/2}[\\cos x^2]-T_{h}[\\cos x^2]\\big]$$"
   ]
  },
  {
   "cell_type": "code",
   "execution_count": 299,
   "metadata": {},
   "outputs": [
    {
     "name": "stdout",
     "output_type": "stream",
     "text": [
      "error = 4.86790820098e-07\n"
     ]
    }
   ],
   "source": [
    "#computing...\n",
    "X1 = thf(lambda x: np.cos(x**2),aa,bb,hh/2)\n",
    "X2 = thf(lambda x: np.cos(x**2),aa,bb,hh)\n",
    "error2 = 4/3*(X1-X2)\n",
    "print('error =',error2)"
   ]
  },
  {
   "cell_type": "markdown",
   "metadata": {},
   "source": [
    "(c) Now we'll use this error to calculate the extrapolated approximation:\n",
    "$$ S_h[\\cos x^2] = T_h[\\cos x^2]+\\frac{4}{3}\\big[T_{h/2}[\\cos x^2]-T_{h}[\\cos x^2]\\big]$$"
   ]
  },
  {
   "cell_type": "code",
   "execution_count": 300,
   "metadata": {},
   "outputs": [
    {
     "name": "stdout",
     "output_type": "stream",
     "text": [
      "Sh(f) = 0.977451424291\n",
      "Th(f) = 0.977450937501\n"
     ]
    }
   ],
   "source": [
    "#just computing...\n",
    "sh = thf(lambda x: np.cos(x**2),aa,bb,hh) + error2\n",
    "print('Sh(f) =',sh)\n",
    "#in comparision to the thf value\n",
    "print('Th(f) =',thf(lambda x: np.cos(x**2),aa,bb,hh))"
   ]
  },
  {
   "cell_type": "markdown",
   "metadata": {},
   "source": [
    "(d) The difference between the approximation $T_h[f]$ and the extrapolated approximation $S_h[f]$ lies in the error term of each one. We know that $$I[f]=T_h[f]+E_h[f]$$ and we've seen that $$E_h[f]\\approx\\frac{4}{3}\\big[T_{h/2}[f]-T_{h}[f]\\big]$$\n",
    "But actually by doing this we are omitting a term $R(h)$ such that the real error is\n",
    "$$E_h[f]\\approx\\frac{4}{3}\\big[T_{h/2}[f]-T_{h}[f]\\big]+R(h)$$\n",
    "Precisely the fact that $R(h)=O(h^4)$ is what explains the faster convergence of $S_h[f]$, in other words, the error of $T_h[f]$ \"goes\" as $h^2$ while the error of $S_h[f]$ \"goes\" as $h^4$."
   ]
  }
 ],
 "metadata": {
  "celltoolbar": "Raw Cell Format",
  "kernelspec": {
   "display_name": "Python 3",
   "language": "python",
   "name": "python3"
  },
  "language_info": {
   "codemirror_mode": {
    "name": "ipython",
    "version": 3
   },
   "file_extension": ".py",
   "mimetype": "text/x-python",
   "name": "python",
   "nbconvert_exporter": "python",
   "pygments_lexer": "ipython3",
   "version": "3.6.3"
  }
 },
 "nbformat": 4,
 "nbformat_minor": 2
}
