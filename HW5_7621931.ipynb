{
 "cells": [
  {
   "cell_type": "markdown",
   "metadata": {},
   "source": [
    "Carles Falcó i Gandia\n",
    "\n",
    "Perm Number: 7621931\n",
    "    \n",
    "falcoigandia@ucsb.edu"
   ]
  },
  {
   "cell_type": "code",
   "execution_count": 280,
   "metadata": {
    "collapsed": true
   },
   "outputs": [],
   "source": [
    "# Python modules\n",
    "import matplotlib.pyplot as plt\n",
    "from sympy import var, expand\n",
    "from numpy import linspace, exp\n",
    "from pandas import DataFrame"
   ]
  },
  {
   "cell_type": "markdown",
   "metadata": {},
   "source": [
    "# Divided differences are symmetric\n",
    "\n",
    "(a) First, we know that given $((x_0,f(x_0)),\\ldots,(x_n,f(x_n))$ the polyomial\n",
    "$$p_n(x)=\\sum_{j=0}^n l_j(x) f(x_j),\\;\\; l_j(x)=\\frac{\\prod_{i = 0,\\;i\\neq j}^n (x-x_i)}{\\prod_{i = 0,\\;i\\neq j}^n (x_j-x_i)}$$ interpolates the data. On the other hand, we also can compute this interpolating polynomial using Newton's divided differences:\n",
    "$$p_n(x) = p_{n-1}(x)+f[x_0,\\ldots,x_n](x-x_0)\\ldots(x-x_{n-1})$$ where $p_{n-1}(x)$ is the polynomial of at most degree $n-1$ that interpolates $((x_0,f(x_0)),\\ldots,(x_{n-1},f(x_{n-1}))$. Considering the degree of this last polynomial we see that the leading coefficient of $p_n(x)$ is simply $f[x_0,\\ldots,x_n]$. Also looking at the Lagrange form of $p_n(x)$ the leading coefficient is $$\\sum_{j = 0}^n\\frac{f(x_j)}{\\prod_{i = 0,\\;i\\neq j}^n (x_j-x_i)}$$ which proves the stated.\n",
    "\n",
    "(b) Now, we can write a permutation of $x_0,\\ldots,x_n$ as $x_{\\sigma(0)},\\ldots,x_{\\sigma(n)}$ where $\\sigma\\in S_n$. We'll take $S_n$ to be the group whose elements are all the bijections from $\\{0,\\ldots,n\\}$ to itself, also called the symmetric group. Thus for any $\\sigma\\in S_n$:\n",
    "$$f[x_{\\sigma(0)},\\ldots,x_{\\sigma(n)}] = \\sum_{j = 0}^n\\frac{f(x_{\\sigma(j)})}{\\prod_{i = 0,\\;i\\neq j}^n (x_{\\sigma(j)}-x_{\\sigma(i)})}$$\n",
    "However, since $\\sigma$ is bijective we are only changing the order of the terms in the sum over $j$. Hence we must have:\n",
    "$$f[x_{\\sigma(0)},\\ldots,x_{\\sigma(n)}] = \\sum_{j = 0}^n\\frac{f(x_{\\sigma(j)})}{\\prod_{i = 0,\\;i\\neq j}^n (x_{\\sigma(j)}-x_{\\sigma(i)})}=\\sum_{j = 0}^n\\frac{f(x_j)}{\\prod_{i = 0,\\;i\\neq j}^n (x_j-x_i)}=f[x_0,\\ldots,x_n]$$"
   ]
  },
  {
   "cell_type": "markdown",
   "metadata": {},
   "source": [
    "# Newton's divided difference\n",
    "We'll write a code capable of computing $c_0 = f[x_0],\\ldots,c_n = f[x_0,\\ldots,x_n]$ and afterwards, evaluating the interpolating polynomial $p_n(x)$."
   ]
  },
  {
   "cell_type": "code",
   "execution_count": 281,
   "metadata": {},
   "outputs": [],
   "source": [
    "# Computing divided differences\n",
    "# INPUT: x, y (data we want to interpolate)\n",
    "# OUTPUT: newton_dif -> [c0,...,cn]\n",
    "# Carles Falcó i Gandia\n",
    "# 08/11/18\n",
    "def newton_dif(x,y):\n",
    "    l = []\n",
    "    for w in y:\n",
    "        l.append(w)\n",
    "    for i in range(1,len(x)):\n",
    "        for j in range(len(x) - 1, i - 1,-1): #we go backwards\n",
    "            l[j] = ( l[j] - l[j-1] )/( x[j] - x[j-i] )  \n",
    "    return l\n",
    "\n",
    "# Evaluating the interpolating polynomial using\n",
    "# a Horner-like scheme\n",
    "# INPUT: x, y (data we want to interpolate)\n",
    "# ,z (point where we want to evaluate)\n",
    "# OUTPUT: p_n(z) for the given data\n",
    "# Carles Falcó i Gandia\n",
    "# 08/11/18\n",
    "def inter_newton_poly(x,y,z):\n",
    "    l = newton_dif(x,y)\n",
    "    a = l[len(x)-1]\n",
    "    for i in range(len(x) - 2,-1,-1):\n",
    "        a = l[i] + (z-x[i])*a\n",
    "    return a"
   ]
  },
  {
   "cell_type": "code",
   "execution_count": 282,
   "metadata": {},
   "outputs": [
    {
     "data": {
      "text/html": [
       "<div>\n",
       "<style>\n",
       "    .dataframe thead tr:only-child th {\n",
       "        text-align: right;\n",
       "    }\n",
       "\n",
       "    .dataframe thead th {\n",
       "        text-align: left;\n",
       "    }\n",
       "\n",
       "    .dataframe tbody tr th {\n",
       "        vertical-align: top;\n",
       "    }\n",
       "</style>\n",
       "<table border=\"1\" class=\"dataframe\">\n",
       "  <thead>\n",
       "    <tr style=\"text-align: right;\">\n",
       "      <th></th>\n",
       "      <th>$f(x_j)$</th>\n",
       "      <th>$x_j$</th>\n",
       "    </tr>\n",
       "  </thead>\n",
       "  <tbody>\n",
       "    <tr>\n",
       "      <th>0</th>\n",
       "      <td>1</td>\n",
       "      <td>0</td>\n",
       "    </tr>\n",
       "    <tr>\n",
       "      <th>1</th>\n",
       "      <td>3</td>\n",
       "      <td>1</td>\n",
       "    </tr>\n",
       "    <tr>\n",
       "      <th>2</th>\n",
       "      <td>13</td>\n",
       "      <td>3</td>\n",
       "    </tr>\n",
       "  </tbody>\n",
       "</table>\n",
       "</div>"
      ],
      "text/plain": [
       "   $f(x_j)$  $x_j$\n",
       "0         1      0\n",
       "1         3      1\n",
       "2        13      3"
      ]
     },
     "execution_count": 282,
     "metadata": {},
     "output_type": "execute_result"
    }
   ],
   "source": [
    "# We'll test our code with the data given in the midterm\n",
    "x_dat0 = [0,1,3]\n",
    "y_dat0 = [1,3,13]\n",
    "dat0 = {'$x_j$':x_dat0,'$f(x_j)$':y_dat0}\n",
    "DataFrame(dat0)"
   ]
  },
  {
   "cell_type": "code",
   "execution_count": 283,
   "metadata": {},
   "outputs": [
    {
     "name": "stdout",
     "output_type": "stream",
     "text": [
      "p_2(x) =  1.0*x**2 + 1.0*x + 1\n"
     ]
    },
    {
     "data": {
      "image/png": "[encoded data removed]",
      "text/plain": [
       "<matplotlib.figure.Figure at 0x27f5a331ac8>"
      ]
     },
     "metadata": {},
     "output_type": "display_data"
    }
   ],
   "source": [
    "# We see now that we obtain the corresponding,\n",
    "# interpolating polynomial\n",
    "# We also plot it in order to check inter_newton_poly\n",
    "x = var('x')\n",
    "t = linspace(-0.75,3.75,1000)\n",
    "print('p_2(x) = ',expand(inter_newton_poly(x_dat0,y_dat0,x)))\n",
    "plt.scatter(x_dat0,y_dat0,label='Data')\n",
    "plt.plot(t,inter_newton_poly(x_dat0,y_dat0,t), \n",
    "         color='orange',label='$p_2(x)$')\n",
    "plt.xlim(-1,4)\n",
    "plt.ylim(-1,17)\n",
    "plt.legend(loc=2)\n",
    "plt.show()\n",
    "# We see that it works properly"
   ]
  },
  {
   "cell_type": "markdown",
   "metadata": {},
   "source": [
    "(b) Now we can use this code for the function $f(x)=e^{-x^2}$ on $[-1,1]$ and the nodes $x_j=-1+2(j/10),\\;j=0,\\ldots,10$. We'll evaluate $p_{10}(x)$ at the points $\\bar{x_j} = -1+2(j/100)$ for $j=0,\\ldots, 100$ and we'll plot the error function $e_n(x)=f(x)-p_{10}(x)$."
   ]
  },
  {
   "cell_type": "code",
   "execution_count": 284,
   "metadata": {},
   "outputs": [],
   "source": [
    "# Evaluating p_10 at given points\n",
    "# INPUT: f (function), xj (nodes), xj_ (points where evaluate)\n",
    "# OUTPUT: p_10(xj_)\n",
    "# Carles Falcó i Gandia\n",
    "# 08/11/2018\n",
    "xj = linspace(-1,1,11)\n",
    "xj_ = linspace(-1,1,101)\n",
    "dat1 = {'xj_':xj_,'f(xj_)':inter_newton_poly(xj,exp(-xj**2),xj_)}\n",
    "#DataFrame(dat1) \n",
    "# erase # to see a table with p_10(xj_)"
   ]
  },
  {
   "cell_type": "code",
   "execution_count": 285,
   "metadata": {},
   "outputs": [
    {
     "data": {
      "image/png": "[encoded data removed]",
      "text/plain": [
       "<matplotlib.figure.Figure at 0x27f5a3af2b0>"
      ]
     },
     "metadata": {},
     "output_type": "display_data"
    }
   ],
   "source": [
    "# Plotting p_10 at given points\n",
    "# INPUT: f (function), xj (nodes), xj_ (points where evaluate)\n",
    "# OUTPUT: Plot\n",
    "# Carles Falcó i Gandia\n",
    "# 08/11/2018\n",
    "plt.scatter(xj,exp(-xj**2),label='Data')\n",
    "plt.plot(xj_,inter_newton_poly(xj,exp(-xj**2),xj_)\n",
    "         ,color='orange',label='$p_10(x)$')\n",
    "plt.legend()\n",
    "plt.show()"
   ]
  },
  {
   "cell_type": "code",
   "execution_count": 288,
   "metadata": {},
   "outputs": [
    {
     "data": {
      "image/png": "[encoded data removed]",
      "text/plain": [
       "<matplotlib.figure.Figure at 0x27f5a803320>"
      ]
     },
     "metadata": {},
     "output_type": "display_data"
    }
   ],
   "source": [
    "# Now we'll plot the error function\n",
    "# INPUT: f (function), xj (nodes), xj_ (points where evaluate)\n",
    "# OUTPUT: Plot\n",
    "# Carles Falcó i Gandia\n",
    "# 08/11/2018\n",
    "plt.plot(xj_,exp(-xj_**2)-inter_newton_poly(xj,exp(-xj**2),xj_)\n",
    "         ,label='$f(x)-p_{10}(x)$')\n",
    "plt.grid()\n",
    "plt.legend()\n",
    "plt.show()"
   ]
  },
  {
   "cell_type": "code",
   "execution_count": 289,
   "metadata": {},
   "outputs": [
    {
     "data": {
      "image/png": "[encoded data removed]",
      "text/plain": [
       "<matplotlib.figure.Figure at 0x27f5a658d68>"
      ]
     },
     "metadata": {},
     "output_type": "display_data"
    }
   ],
   "source": [
    "# Same but with better resolution\n",
    "xj_bis = linspace(-1,1,1001)\n",
    "plt.plot(xj_bis,exp(-xj_bis**2)-inter_newton_poly(xj,exp(-xj**2),xj_bis)\n",
    "         ,label='$f(x)-p_{10}(x)$')\n",
    "plt.grid()\n",
    "plt.legend()\n",
    "plt.show()\n",
    "# cannot notice any difference"
   ]
  },
  {
   "cell_type": "markdown",
   "metadata": {},
   "source": [
    "We see that although the error is rather small - we could notice it in the previous plots - it concentrates around the interval extrema and it is almost zero near $x=0$."
   ]
  },
  {
   "cell_type": "markdown",
   "metadata": {},
   "source": [
    "# Inverse interpolation\n",
    "For $f(x)=x-e^{-x}$ using the values $f(0.5)=-0.10653065971263$ and $f(0.6)=0.051188363905973$ we'll find an approximation of a zero of $f$ by evaluating $\\bar{x}=p_1(0)$. We know that $p_1(0) = 0.5 + \\frac{0.6-0.5}{f(0.6)-f(0.5)}(0-f(0.5))=0.567544584837301$. We improve our approximation to $f(\\bar{x})=0.000628840210081$."
   ]
  },
  {
   "cell_type": "code",
   "execution_count": 278,
   "metadata": {},
   "outputs": [
    {
     "name": "stdout",
     "output_type": "stream",
     "text": [
      "0.567544584837301\n",
      "0.000628840210081\n"
     ]
    }
   ],
   "source": [
    "# Calculations\n",
    "print(0.5+(0.6-0.5)/(0.051188363905973+0.10653065971263)*0.10653065971263)\n",
    "print(0.567544584837301-exp(-0.567544584837301))"
   ]
  },
  {
   "cell_type": "markdown",
   "metadata": {},
   "source": [
    "Now, we could add this value to the data and make again the same argument. Using the previous code we can try to add a few values to our data to see if we can get a better approximation for a zero of $f$."
   ]
  },
  {
   "cell_type": "code",
   "execution_count": 279,
   "metadata": {},
   "outputs": [
    {
     "name": "stdout",
     "output_type": "stream",
     "text": [
      "[0.5, 0.6, 0.567544584837301, 0.56714328550483162, 0.56714329040978395]\n"
     ]
    },
    {
     "data": {
      "text/html": [
       "<div>\n",
       "<style>\n",
       "    .dataframe thead tr:only-child th {\n",
       "        text-align: right;\n",
       "    }\n",
       "\n",
       "    .dataframe thead th {\n",
       "        text-align: left;\n",
       "    }\n",
       "\n",
       "    .dataframe tbody tr th {\n",
       "        vertical-align: top;\n",
       "    }\n",
       "</style>\n",
       "<table border=\"1\" class=\"dataframe\">\n",
       "  <thead>\n",
       "    <tr style=\"text-align: right;\">\n",
       "      <th></th>\n",
       "      <th>$f(x)$</th>\n",
       "      <th>$x$</th>\n",
       "    </tr>\n",
       "  </thead>\n",
       "  <tbody>\n",
       "    <tr>\n",
       "      <th>0</th>\n",
       "      <td>-1.065307e-01</td>\n",
       "      <td>0.500000</td>\n",
       "    </tr>\n",
       "    <tr>\n",
       "      <th>1</th>\n",
       "      <td>5.118836e-02</td>\n",
       "      <td>0.600000</td>\n",
       "    </tr>\n",
       "    <tr>\n",
       "      <th>2</th>\n",
       "      <td>6.288402e-04</td>\n",
       "      <td>0.567545</td>\n",
       "    </tr>\n",
       "    <tr>\n",
       "      <th>3</th>\n",
       "      <td>-7.686763e-09</td>\n",
       "      <td>0.567143</td>\n",
       "    </tr>\n",
       "    <tr>\n",
       "      <th>4</th>\n",
       "      <td>1.110223e-16</td>\n",
       "      <td>0.567143</td>\n",
       "    </tr>\n",
       "  </tbody>\n",
       "</table>\n",
       "</div>"
      ],
      "text/plain": [
       "         $f(x)$       $x$\n",
       "0 -1.065307e-01  0.500000\n",
       "1  5.118836e-02  0.600000\n",
       "2  6.288402e-04  0.567545\n",
       "3 -7.686763e-09  0.567143\n",
       "4  1.110223e-16  0.567143"
      ]
     },
     "execution_count": 279,
     "metadata": {},
     "output_type": "execute_result"
    }
   ],
   "source": [
    "# Finding a better approximation to a zero of $f$\n",
    "# INPUT xdat2 = [0.5,0.6], ydat2 = [f(0.5),f(0.6)]\n",
    "# , tol (tolerance)\n",
    "# OUPUT x_zero (approximation of zero of f)\n",
    "# Carles Falcó i Gandia\n",
    "# 08/11/2018\n",
    "xdat2 = [0.5,0.6]; ydat2 = [-0.10653065971263 , 0.051188363905973]\n",
    "tol = 1e-14\n",
    "while(abs(xdat2[len(xdat2)-1]-exp(-xdat2[len(xdat2)-1])) > tol ):\n",
    "    xdat2.append(inter_newton_poly(ydat2,xdat2,0))\n",
    "    ydat2.append( xdat2[len(xdat2)-1]-exp(-xdat2[len(xdat2)-1]) )\n",
    "dat2 = {'$x$':xdat2,'$f(x)$':ydat2}\n",
    "print(xdat2)\n",
    "DataFrame(dat2)"
   ]
  },
  {
   "cell_type": "markdown",
   "metadata": {},
   "source": [
    "We see then that just adding three more points we get an excellent approximation to a zero of $f$, with $f(\\bar{x})\\sim 10^{-16}$ and $\\bar{x} = 0.56714329040978395$."
   ]
  },
  {
   "cell_type": "markdown",
   "metadata": {},
   "source": [
    "# Hermite interpolation\n",
    "\n",
    "We'll find the Hermite interpolating polynomial given the data $f(0)=0, f'(0)=0, f(1)=2, f'(1)=3$. By building - by hand - the table of divided differences we have:\n",
    "$$f[0] = 0,\\; f[0,0] = 0,\\; f[0,1] = \\frac{2-0}{1-0} = 2,\\; f[1,1] = 3$$ \n",
    "$$ f[0,0,1] = \\frac{2-0}{1-0} = 2,\\; f[0,1,1] = \\frac{3-2}{1-0}=1$$\n",
    "$$f[0,0,1,1] = \\frac{1-2}{1-0} = -1$$\n",
    "\n",
    "Hence we have that the interpolating polynomial is $p(x)= 0+0x+2x^2-x^2(x-1)=-x^3+3x^2$. We can check that indeed, interpolates the data. $p(0)=0$ and $p(1)=-1+3 = 2$. Now $p'(x)= -3x^2+6x$ and $p'(0)=0$ and $p'(1)=-3+6=3$."
   ]
  }
 ],
 "metadata": {
  "kernelspec": {
   "display_name": "Python 3",
   "language": "python",
   "name": "python3"
  },
  "language_info": {
   "codemirror_mode": {
    "name": "ipython",
    "version": 3
   },
   "file_extension": ".py",
   "mimetype": "text/x-python",
   "name": "python",
   "nbconvert_exporter": "python",
   "pygments_lexer": "ipython3",
   "version": "3.6.3"
  }
 },
 "nbformat": 4,
 "nbformat_minor": 2
}
